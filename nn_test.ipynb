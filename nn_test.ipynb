{
 "cells": [
  {
   "cell_type": "code",
   "execution_count": 1,
   "metadata": {},
   "outputs": [
    {
     "name": "stderr",
     "output_type": "stream",
     "text": [
      "/usr/people/ye9829/.conda/envs/mybase/envs/towers/lib/python3.9/site-packages/tqdm/auto.py:21: TqdmWarning: IProgress not found. Please update jupyter and ipywidgets. See https://ipywidgets.readthedocs.io/en/stable/user_install.html\n",
      "  from .autonotebook import tqdm as notebook_tqdm\n"
     ]
    }
   ],
   "source": [
    "import numpy as np\n",
    "import matplotlib.pyplot as plt\n",
    "import seaborn as sns\n",
    "import pandas as pd\n",
    "import glob\n",
    "import pickle\n",
    "from scipy.linalg import hankel\n",
    "from scipy.stats import dirichlet, poisson\n",
    "from scipy.special import factorial, logsumexp\n",
    "import statsmodels.api as sm\n",
    "import matplotx\n",
    "from multiprocessing import Pool\n",
    "from time import time\n",
    "from tqdm import tqdm\n",
    "import os\n",
    "import torch\n",
    "from torch import nn\n",
    "from torch.utils.data import DataLoader\n",
    "\n",
    "plt.style.use(matplotx.styles.aura[\"dark\"])"
   ]
  },
  {
   "cell_type": "code",
   "execution_count": 2,
   "metadata": {},
   "outputs": [
    {
     "name": "stdout",
     "output_type": "stream",
     "text": [
      "dict_keys(['nCues_RminusL', 'currMaze', 'laserON', 'trialStart', 'trialEnd', 'keyFrames', 'time', 'cueOnset_L', 'cueOnset_R', 'choice', 'trialType', 'spikes', 'timeSqueezedFR'])\n",
      "n_neurons: 324\n",
      "n_trials: 290\n"
     ]
    }
   ],
   "source": [
    "with open(\"test_data_acc_ind_492_0607.pickle\", \"rb\") as handle:\n",
    "    data = pickle.load(handle)\n",
    "print(data.keys())\n",
    "total_neurons = len(data[\"spikes\"])\n",
    "print(f\"n_neurons: {total_neurons}\")\n",
    "print(\"n_trials: {}\".format(data[\"choice\"].size))"
   ]
  },
  {
   "cell_type": "code",
   "execution_count": 3,
   "metadata": {},
   "outputs": [
    {
     "name": "stdout",
     "output_type": "stream",
     "text": [
      "number of trials: 290\n",
      "(20, 13238, 1) (20, 13238, 61)\n"
     ]
    },
    {
     "data": {
      "text/plain": [
       "array([172,  47, 117, 192, 323, 251, 195,   9, 211, 277, 242, 292,  87,\n",
       "        70,  88, 314, 193,  39,  87, 174])"
      ]
     },
     "execution_count": 3,
     "metadata": {},
     "output_type": "execute_result"
    }
   ],
   "source": [
    "# constructing design matrix with all trials and all neurons\n",
    "np.random.seed(0)\n",
    "X_all = []\n",
    "y_all = []\n",
    "trial_indices = np.nonzero(data[\"currMaze\"] > 0)[0]\n",
    "print(f\"number of trials: {trial_indices.size}\")\n",
    "filt_len = 30\n",
    "sp_filt_len = 20\n",
    "bin_size = 0.35\n",
    "n_neurons = 20\n",
    "neuron_idx = np.random.randint(0, total_neurons, size=n_neurons)\n",
    "# neuron_idx = np.array([11, 12])\n",
    "trial_id = (\n",
    "    []\n",
    ")  # this will keep track of each trial in the design matrix (since each trial spans multiple rows)\n",
    "for i, neuron in enumerate(neuron_idx):\n",
    "    X = []\n",
    "    y = []\n",
    "\n",
    "    for trial_idx in trial_indices:\n",
    "        trial_start = data[\"trialStart\"][trial_idx]\n",
    "        trial_end = data[\"trialEnd\"][trial_idx]\n",
    "        trial_length = trial_end - trial_start\n",
    "\n",
    "        keyframes = data[\"keyFrames\"][trial_idx]\n",
    "        keyframe_times = data[\"time\"][trial_idx][keyframes.astype(int)].tolist()\n",
    "        lcue_times = data[\"cueOnset_L\"][trial_idx]\n",
    "        rcue_times = data[\"cueOnset_R\"][trial_idx]\n",
    "\n",
    "        spikes = data[\"spikes\"][neuron]\n",
    "        spikes = spikes[(spikes > trial_start) * (spikes < trial_end)]\n",
    "\n",
    "        bins = np.arange(0, trial_length, bin_size)\n",
    "        bin_centers = np.convolve(bins, [0.5, 0.5], mode=\"valid\")\n",
    "\n",
    "        binned_stimr, _ = np.histogram(rcue_times, bins)\n",
    "        binned_stiml, _ = np.histogram(lcue_times, bins)\n",
    "        binned_ev = np.cumsum(binned_stimr) - np.cumsum(binned_stiml)\n",
    "        binned_spikes, _ = np.histogram(spikes - trial_start, bins)\n",
    "\n",
    "        padded_stimr = np.pad(binned_stimr, (filt_len - 1, 0), constant_values=(0, 0))\n",
    "        X_sr = hankel(padded_stimr[: -filt_len + 1], padded_stimr[-filt_len:])\n",
    "        padded_stiml = np.pad(binned_stiml, (filt_len - 1, 0), constant_values=(0, 0))\n",
    "        X_sl = hankel(padded_stiml[: -filt_len + 1], padded_stiml[-filt_len:])\n",
    "        padded_ev = np.pad(binned_ev, (filt_len - 1, 0), constant_values=(0, 0))\n",
    "        X_ev = hankel(padded_ev[: -filt_len + 1], padded_stiml[-filt_len:])\n",
    "\n",
    "        padded_spikes = np.pad(\n",
    "            binned_spikes[:-1], (sp_filt_len, 0), constant_values=(0, 0)\n",
    "        )\n",
    "        X_sp = hankel(padded_spikes[: -sp_filt_len + 1], padded_spikes[-sp_filt_len:])\n",
    "\n",
    "        X.append(np.hstack((X_sr, X_sl, np.ones((X_sp.shape[0], 1)))))\n",
    "        y.append(binned_spikes[:, np.newaxis])\n",
    "        if i == 0:\n",
    "            trial_id.append(trial_idx * np.ones(X_sr.shape[0]))\n",
    "\n",
    "    X_all.append(np.vstack(X))\n",
    "    y_all.append(np.vstack(y))\n",
    "\n",
    "trial_id = np.concatenate(trial_id)\n",
    "X_all = np.array(X_all)\n",
    "y_all = np.array(y_all)\n",
    "print(y_all.shape, X_all.shape)\n",
    "neuron_idx"
   ]
  },
  {
   "cell_type": "code",
   "execution_count": 4,
   "metadata": {},
   "outputs": [
    {
     "name": "stdout",
     "output_type": "stream",
     "text": [
      "epoch 0 loss = 10.398453712463379\n",
      "epoch 10 loss = 10.378352165222168\n",
      "epoch 20 loss = 10.358281135559082\n",
      "epoch 30 loss = 10.338234901428223\n",
      "epoch 40 loss = 10.318206787109375\n",
      "epoch 50 loss = 10.298189163208008\n",
      "epoch 60 loss = 10.278176307678223\n",
      "epoch 70 loss = 10.258162498474121\n",
      "epoch 80 loss = 10.238138198852539\n",
      "epoch 90 loss = 10.218103408813477\n",
      "epoch 100 loss = 10.198042869567871\n",
      "epoch 110 loss = 10.177957534790039\n",
      "epoch 120 loss = 10.1578369140625\n",
      "epoch 130 loss = 10.137674331665039\n",
      "epoch 140 loss = 10.117466926574707\n",
      "epoch 150 loss = 10.097203254699707\n",
      "epoch 160 loss = 10.076878547668457\n",
      "epoch 170 loss = 10.056485176086426\n",
      "epoch 180 loss = 10.036017417907715\n",
      "epoch 190 loss = 10.01546859741211\n",
      "epoch 200 loss = 9.994833946228027\n",
      "epoch 210 loss = 9.974102973937988\n",
      "epoch 220 loss = 9.953271865844727\n",
      "epoch 230 loss = 9.932331085205078\n",
      "epoch 240 loss = 9.911274909973145\n",
      "epoch 250 loss = 9.890094757080078\n",
      "epoch 260 loss = 9.86877155303955\n",
      "epoch 270 loss = 9.847311019897461\n",
      "epoch 280 loss = 9.825705528259277\n",
      "epoch 290 loss = 9.80394458770752\n",
      "epoch 300 loss = 9.782022476196289\n",
      "epoch 310 loss = 9.759928703308105\n",
      "epoch 320 loss = 9.737655639648438\n",
      "epoch 330 loss = 9.71519660949707\n",
      "epoch 340 loss = 9.692538261413574\n",
      "epoch 350 loss = 9.669673919677734\n",
      "epoch 360 loss = 9.646595001220703\n",
      "epoch 370 loss = 9.623291969299316\n",
      "epoch 380 loss = 9.59975528717041\n",
      "epoch 390 loss = 9.57597541809082\n",
      "epoch 400 loss = 9.5519380569458\n",
      "epoch 410 loss = 9.527633666992188\n",
      "epoch 420 loss = 9.503052711486816\n",
      "epoch 430 loss = 9.478184700012207\n",
      "epoch 440 loss = 9.45301628112793\n",
      "epoch 450 loss = 9.427534103393555\n",
      "epoch 460 loss = 9.401728630065918\n",
      "epoch 470 loss = 9.375588417053223\n",
      "epoch 480 loss = 9.349114418029785\n",
      "epoch 490 loss = 9.32227611541748\n",
      "epoch 500 loss = 9.295059204101562\n",
      "epoch 510 loss = 9.26745319366455\n",
      "epoch 520 loss = 9.2394380569458\n",
      "epoch 530 loss = 9.2109956741333\n",
      "epoch 540 loss = 9.182113647460938\n",
      "epoch 550 loss = 9.152774810791016\n",
      "epoch 560 loss = 9.12296199798584\n",
      "epoch 570 loss = 9.092658996582031\n",
      "epoch 580 loss = 9.061845779418945\n",
      "epoch 590 loss = 9.030502319335938\n",
      "epoch 600 loss = 8.998610496520996\n",
      "epoch 610 loss = 8.966144561767578\n",
      "epoch 620 loss = 8.933088302612305\n",
      "epoch 630 loss = 8.899420738220215\n",
      "epoch 640 loss = 8.865118980407715\n",
      "epoch 650 loss = 8.830162048339844\n",
      "epoch 660 loss = 8.794516563415527\n",
      "epoch 670 loss = 8.75816535949707\n",
      "epoch 680 loss = 8.72107982635498\n",
      "epoch 690 loss = 8.683237075805664\n",
      "epoch 700 loss = 8.644612312316895\n",
      "epoch 710 loss = 8.605175018310547\n",
      "epoch 720 loss = 8.564870834350586\n",
      "epoch 730 loss = 8.523697853088379\n",
      "epoch 740 loss = 8.4816255569458\n",
      "epoch 750 loss = 8.438636779785156\n",
      "epoch 760 loss = 8.394691467285156\n",
      "epoch 770 loss = 8.349757194519043\n",
      "epoch 780 loss = 8.303804397583008\n",
      "epoch 790 loss = 8.25680160522461\n",
      "epoch 800 loss = 8.208715438842773\n",
      "epoch 810 loss = 8.159510612487793\n",
      "epoch 820 loss = 8.109161376953125\n",
      "epoch 830 loss = 8.057641983032227\n",
      "epoch 840 loss = 8.004919052124023\n",
      "epoch 850 loss = 7.950962066650391\n",
      "epoch 860 loss = 7.895737648010254\n",
      "epoch 870 loss = 7.839219570159912\n",
      "epoch 880 loss = 7.781381130218506\n",
      "epoch 890 loss = 7.722198009490967\n",
      "epoch 900 loss = 7.6616435050964355\n",
      "epoch 910 loss = 7.599704265594482\n",
      "epoch 920 loss = 7.5363616943359375\n",
      "epoch 930 loss = 7.471595764160156\n",
      "epoch 940 loss = 7.405395984649658\n",
      "epoch 950 loss = 7.337754249572754\n",
      "epoch 960 loss = 7.268670558929443\n",
      "epoch 970 loss = 7.198145389556885\n",
      "epoch 980 loss = 7.126186847686768\n",
      "epoch 990 loss = 7.052813529968262\n"
     ]
    }
   ],
   "source": [
    "class NeuralNetwork(nn.Module):\n",
    "    def __init__(self, n_features, n_neurons):\n",
    "        super().__init__()\n",
    "        self.flatten = nn.Flatten()\n",
    "        self.linear_relu_stack = nn.Sequential(\n",
    "            nn.Linear(n_features, 50),\n",
    "            nn.ReLU(),\n",
    "            nn.Linear(50, 50),\n",
    "            nn.ReLU(),\n",
    "            nn.Linear(50, n_neurons),\n",
    "            nn.ReLU(),\n",
    "        )\n",
    "\n",
    "    def forward(self, x):\n",
    "        # print(x)\n",
    "        # x = self.flatten(x)\n",
    "        out = self.linear_relu_stack(x)\n",
    "        return out\n",
    "\n",
    "    def train(self, x, y, epochs=1000):\n",
    "        optimizer = torch.optim.SGD(self.parameters(), lr=1e-3)\n",
    "        loss_fn = torch.nn.MSELoss()\n",
    "\n",
    "        for i in range(epochs):\n",
    "            pred = self.forward(x)\n",
    "            loss = loss_fn(pred, y)\n",
    "\n",
    "            loss.backward()\n",
    "            optimizer.step()\n",
    "            optimizer.zero_grad()\n",
    "\n",
    "            if i % 10 == 0:\n",
    "                print(f\"epoch {i} loss = {loss.item()}\")\n",
    "\n",
    "\n",
    "X = np.vstack(X)\n",
    "model = NeuralNetwork(X.shape[1], y_all.shape[0])\n",
    "model.train(\n",
    "    torch.tensor(X, dtype=torch.float32),\n",
    "    torch.tensor(y_all.squeeze().T, dtype=torch.float32),\n",
    ")"
   ]
  },
  {
   "cell_type": "code",
   "execution_count": 7,
   "metadata": {},
   "outputs": [
    {
     "data": {
      "text/plain": [
       "torch.Size([13238, 20])"
      ]
     },
     "execution_count": 7,
     "metadata": {},
     "output_type": "execute_result"
    }
   ],
   "source": [
    "pred = model.forward(torch.tensor(X, dtype=torch.float32))\n",
    "pred.shape"
   ]
  },
  {
   "cell_type": "code",
   "execution_count": 26,
   "metadata": {},
   "outputs": [
    {
     "data": {
      "image/png": "[encoded data removed]",
      "text/plain": [
       "<Figure size 1000x400 with 2 Axes>"
      ]
     },
     "metadata": {},
     "output_type": "display_data"
    }
   ],
   "source": [
    "fig, axs = plt.subplots(2, 1, figsize=(10, 4), gridspec_kw={\"height_ratios\": [5, 1]})\n",
    "\n",
    "sort_idx = np.argsort(\n",
    "    data[\"nCues_RminusL\"]\n",
    ")  # ordered index of (lots of left cues) -> (lots of right cues)\n",
    "plot_trial = sort_idx[-2]\n",
    "neuron = 4\n",
    "X_plot = X[trial_id == plot_trial]\n",
    "# y_pred = np.exp(X_plot @ theta_init[:, neuron])\n",
    "y_pred = pred[trial_id == plot_trial, neuron].detach().numpy()\n",
    "\n",
    "# y_pred = np.exp(X_plot @ theta_post[:, :, neuron].T)\n",
    "\n",
    "y_plot = y_all[neuron, trial_id == plot_trial]\n",
    "axs[0].stem(y_plot, label=\"binned spikes\")\n",
    "axs[0].plot(y_pred, label=pred)\n",
    "# trial_xticks(axs[0], xlocs=[0] + keyframe_times + [trial_length], yloc=-0.1)\n",
    "axs[0].set_ylabel(\"spikes/bin\")\n",
    "axs[0].legend()\n",
    "\n",
    "\n",
    "# axs[1].plot(bin_centers, binned_stimr, color=colors[0], label=\"right towers\")\n",
    "# axs[1].plot(bin_centers, binned_stiml, color=colors[1], label=\"left towers\")\n",
    "# trial_xticks(axs[1], xlocs=[0] + keyframe_times + [trial_length], yloc=-0.1)\n",
    "# axs[1].set_ylabel(\"# of towers\")\n",
    "# axs[1].set_title(\"Binned Stimulus\")\n",
    "# axs[1].legend()\n",
    "# plt.tight_layout()\n",
    "sns.despine()\n",
    "# print(f\"gamma for selected trial {np.exp(gamma[:, plot_trial])}\")"
   ]
  },
  {
   "cell_type": "code",
   "execution_count": 23,
   "metadata": {},
   "outputs": [
    {
     "data": {
      "text/plain": [
       "array([0., 0., 0., 0., 0., 0., 0., 0., 0., 0., 0., 0., 0., 0., 0., 0., 0.,\n",
       "       0., 0., 0., 0., 0., 0., 0., 0., 0., 0., 0., 0., 0., 0., 0., 0., 0.,\n",
       "       0., 0., 0., 0., 0., 0., 0., 0., 0., 0., 0., 0., 0., 0., 0.],\n",
       "      dtype=float32)"
      ]
     },
     "execution_count": 23,
     "metadata": {},
     "output_type": "execute_result"
    }
   ],
   "source": [
    "y_pred.detach().numpy()"
   ]
  },
  {
   "cell_type": "code",
   "execution_count": 25,
   "metadata": {},
   "outputs": [
    {
     "data": {
      "text/plain": [
       "torch.Size([49])"
      ]
     },
     "execution_count": 25,
     "metadata": {},
     "output_type": "execute_result"
    }
   ],
   "source": [
    "y_pred.shape"
   ]
  },
  {
   "cell_type": "code",
   "execution_count": null,
   "metadata": {},
   "outputs": [],
   "source": []
  }
 ],
 "metadata": {
  "kernelspec": {
   "display_name": "towers",
   "language": "python",
   "name": "python3"
  },
  "language_info": {
   "codemirror_mode": {
    "name": "ipython",
    "version": 3
   },
   "file_extension": ".py",
   "mimetype": "text/x-python",
   "name": "python",
   "nbconvert_exporter": "python",
   "pygments_lexer": "ipython3",
   "version": "3.9.16"
  },
  "orig_nbformat": 4
 },
 "nbformat": 4,
 "nbformat_minor": 2
}

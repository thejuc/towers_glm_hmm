{
 "cells": [
  {
   "cell_type": "code",
   "execution_count": 1,
   "metadata": {},
   "outputs": [
    {
     "name": "stderr",
     "output_type": "stream",
     "text": [
      "/usr/people/ye9829/.conda/envs/mybase/envs/towers/lib/python3.9/site-packages/tqdm/auto.py:21: TqdmWarning: IProgress not found. Please update jupyter and ipywidgets. See https://ipywidgets.readthedocs.io/en/stable/user_install.html\n",
      "  from .autonotebook import tqdm as notebook_tqdm\n"
     ]
    }
   ],
   "source": [
    "import numpy as np\n",
    "import matplotlib.pyplot as plt\n",
    "import seaborn as sns\n",
    "import pandas as pd\n",
    "import glob\n",
    "import pickle\n",
    "from scipy.linalg import hankel\n",
    "from scipy.stats import dirichlet, poisson\n",
    "from scipy.special import factorial, logsumexp\n",
    "import statsmodels.api as sm\n",
    "import matplotx\n",
    "from multiprocessing import Pool\n",
    "from time import time\n",
    "from tqdm import tqdm\n",
    "import os\n",
    "import torch\n",
    "from torch import nn\n",
    "from torch.utils.data import DataLoader\n",
    "\n",
    "plt.style.use(matplotx.styles.aura[\"dark\"])"
   ]
  },
  {
   "cell_type": "code",
   "execution_count": 2,
   "metadata": {},
   "outputs": [
    {
     "name": "stdout",
     "output_type": "stream",
     "text": [
      "dict_keys(['nCues_RminusL', 'currMaze', 'laserON', 'trialStart', 'trialEnd', 'keyFrames', 'time', 'cueOnset_L', 'cueOnset_R', 'choice', 'trialType', 'spikes', 'timeSqueezedFR'])\n",
      "n_neurons: 324\n",
      "n_trials: 290\n"
     ]
    }
   ],
   "source": [
    "with open(\"test_data_acc_ind_492_0607.pickle\", \"rb\") as handle:\n",
    "    data = pickle.load(handle)\n",
    "print(data.keys())\n",
    "total_neurons = len(data[\"spikes\"])\n",
    "print(f\"n_neurons: {total_neurons}\")\n",
    "print(\"n_trials: {}\".format(data[\"choice\"].size))"
   ]
  },
  {
   "cell_type": "code",
   "execution_count": 3,
   "metadata": {},
   "outputs": [
    {
     "name": "stdout",
     "output_type": "stream",
     "text": [
      "number of trials: 290\n",
      "(20, 13238, 1) (20, 13238, 61)\n"
     ]
    },
    {
     "data": {
      "text/plain": [
       "array([172,  47, 117, 192, 323, 251, 195,   9, 211, 277, 242, 292,  87,\n",
       "        70,  88, 314, 193,  39,  87, 174])"
      ]
     },
     "execution_count": 3,
     "metadata": {},
     "output_type": "execute_result"
    }
   ],
   "source": [
    "# constructing design matrix with all trials and all neurons\n",
    "np.random.seed(0)\n",
    "X_all = []\n",
    "y_all = []\n",
    "trial_indices = np.nonzero(data[\"currMaze\"] > 0)[0]\n",
    "print(f\"number of trials: {trial_indices.size}\")\n",
    "filt_len = 30\n",
    "sp_filt_len = 20\n",
    "bin_size = 0.35\n",
    "n_neurons = 20\n",
    "neuron_idx = np.random.randint(0, total_neurons, size=n_neurons)\n",
    "# neuron_idx = np.array([11, 12])\n",
    "trial_id = (\n",
    "    []\n",
    ")  # this will keep track of each trial in the design matrix (since each trial spans multiple rows)\n",
    "for i, neuron in enumerate(neuron_idx):\n",
    "    X = []\n",
    "    y = []\n",
    "\n",
    "    for trial_idx in trial_indices:\n",
    "        trial_start = data[\"trialStart\"][trial_idx]\n",
    "        trial_end = data[\"trialEnd\"][trial_idx]\n",
    "        trial_length = trial_end - trial_start\n",
    "\n",
    "        keyframes = data[\"keyFrames\"][trial_idx]\n",
    "        keyframe_times = data[\"time\"][trial_idx][keyframes.astype(int)].tolist()\n",
    "        lcue_times = data[\"cueOnset_L\"][trial_idx]\n",
    "        rcue_times = data[\"cueOnset_R\"][trial_idx]\n",
    "\n",
    "        spikes = data[\"spikes\"][neuron]\n",
    "        spikes = spikes[(spikes > trial_start) * (spikes < trial_end)]\n",
    "\n",
    "        bins = np.arange(0, trial_length, bin_size)\n",
    "        bin_centers = np.convolve(bins, [0.5, 0.5], mode=\"valid\")\n",
    "\n",
    "        binned_stimr, _ = np.histogram(rcue_times, bins)\n",
    "        binned_stiml, _ = np.histogram(lcue_times, bins)\n",
    "        binned_ev = np.cumsum(binned_stimr) - np.cumsum(binned_stiml)\n",
    "        binned_spikes, _ = np.histogram(spikes - trial_start, bins)\n",
    "\n",
    "        padded_stimr = np.pad(binned_stimr, (filt_len - 1, 0), constant_values=(0, 0))\n",
    "        X_sr = hankel(padded_stimr[: -filt_len + 1], padded_stimr[-filt_len:])\n",
    "        padded_stiml = np.pad(binned_stiml, (filt_len - 1, 0), constant_values=(0, 0))\n",
    "        X_sl = hankel(padded_stiml[: -filt_len + 1], padded_stiml[-filt_len:])\n",
    "        padded_ev = np.pad(binned_ev, (filt_len - 1, 0), constant_values=(0, 0))\n",
    "        X_ev = hankel(padded_ev[: -filt_len + 1], padded_stiml[-filt_len:])\n",
    "\n",
    "        padded_spikes = np.pad(\n",
    "            binned_spikes[:-1], (sp_filt_len, 0), constant_values=(0, 0)\n",
    "        )\n",
    "        X_sp = hankel(padded_spikes[: -sp_filt_len + 1], padded_spikes[-sp_filt_len:])\n",
    "\n",
    "        X.append(np.hstack((X_sr, X_sl, np.ones((X_sp.shape[0], 1)))))\n",
    "        y.append(binned_spikes[:, np.newaxis])\n",
    "        if i == 0:\n",
    "            trial_id.append(trial_idx * np.ones(X_sr.shape[0]))\n",
    "\n",
    "    X_all.append(np.vstack(X))\n",
    "    y_all.append(np.vstack(y))\n",
    "\n",
    "trial_id = np.concatenate(trial_id)\n",
    "X_all = np.array(X_all)\n",
    "y_all = np.array(y_all)\n",
    "print(y_all.shape, X_all.shape)\n",
    "neuron_idx"
   ]
  },
  {
   "cell_type": "code",
   "execution_count": 20,
   "metadata": {},
   "outputs": [
    {
     "name": "stdout",
     "output_type": "stream",
     "text": [
      "epoch 0 loss = 10.522619247436523\n",
      "epoch 10 loss = 10.513094902038574\n",
      "epoch 20 loss = 10.503520011901855\n",
      "epoch 30 loss = 10.493901252746582\n",
      "epoch 40 loss = 10.484238624572754\n",
      "epoch 50 loss = 10.47453784942627\n",
      "epoch 60 loss = 10.464800834655762\n",
      "epoch 70 loss = 10.455025672912598\n",
      "epoch 80 loss = 10.445210456848145\n",
      "epoch 90 loss = 10.435358047485352\n",
      "epoch 100 loss = 10.425472259521484\n",
      "epoch 110 loss = 10.415550231933594\n",
      "epoch 120 loss = 10.40558910369873\n",
      "epoch 130 loss = 10.395593643188477\n",
      "epoch 140 loss = 10.385565757751465\n",
      "epoch 150 loss = 10.375508308410645\n",
      "epoch 160 loss = 10.3654146194458\n",
      "epoch 170 loss = 10.35529613494873\n",
      "epoch 180 loss = 10.345147132873535\n",
      "epoch 190 loss = 10.334970474243164\n",
      "epoch 200 loss = 10.324767112731934\n",
      "epoch 210 loss = 10.31454086303711\n",
      "epoch 220 loss = 10.304288864135742\n",
      "epoch 230 loss = 10.294007301330566\n",
      "epoch 240 loss = 10.28369426727295\n",
      "epoch 250 loss = 10.27335262298584\n",
      "epoch 260 loss = 10.262979507446289\n",
      "epoch 270 loss = 10.252564430236816\n",
      "epoch 280 loss = 10.24210262298584\n",
      "epoch 290 loss = 10.231606483459473\n",
      "epoch 300 loss = 10.221076965332031\n",
      "epoch 310 loss = 10.21051025390625\n",
      "epoch 320 loss = 10.199904441833496\n",
      "epoch 330 loss = 10.189262390136719\n",
      "epoch 340 loss = 10.17857551574707\n",
      "epoch 350 loss = 10.167847633361816\n",
      "epoch 360 loss = 10.157075881958008\n",
      "epoch 370 loss = 10.146259307861328\n",
      "epoch 380 loss = 10.135396003723145\n",
      "epoch 390 loss = 10.124483108520508\n",
      "epoch 400 loss = 10.11352252960205\n",
      "epoch 410 loss = 10.102506637573242\n",
      "epoch 420 loss = 10.091438293457031\n",
      "epoch 430 loss = 10.080314636230469\n",
      "epoch 440 loss = 10.069131851196289\n",
      "epoch 450 loss = 10.057888984680176\n",
      "epoch 460 loss = 10.046586990356445\n",
      "epoch 470 loss = 10.035219192504883\n",
      "epoch 480 loss = 10.023789405822754\n",
      "epoch 490 loss = 10.012293815612793\n",
      "epoch 500 loss = 10.000731468200684\n",
      "epoch 510 loss = 9.989096641540527\n",
      "epoch 520 loss = 9.977389335632324\n",
      "epoch 530 loss = 9.965608596801758\n",
      "epoch 540 loss = 9.953751564025879\n",
      "epoch 550 loss = 9.941814422607422\n",
      "epoch 560 loss = 9.92979621887207\n",
      "epoch 570 loss = 9.917691230773926\n",
      "epoch 580 loss = 9.905505180358887\n",
      "epoch 590 loss = 9.89322566986084\n",
      "epoch 600 loss = 9.880853652954102\n",
      "epoch 610 loss = 9.868375778198242\n",
      "epoch 620 loss = 9.855802536010742\n",
      "epoch 630 loss = 9.843127250671387\n",
      "epoch 640 loss = 9.83034610748291\n",
      "epoch 650 loss = 9.817445755004883\n",
      "epoch 660 loss = 9.804435729980469\n",
      "epoch 670 loss = 9.791313171386719\n",
      "epoch 680 loss = 9.77807903289795\n",
      "epoch 690 loss = 9.764727592468262\n",
      "epoch 700 loss = 9.751241683959961\n",
      "epoch 710 loss = 9.737630844116211\n",
      "epoch 720 loss = 9.723893165588379\n",
      "epoch 730 loss = 9.710022926330566\n",
      "epoch 740 loss = 9.696017265319824\n",
      "epoch 750 loss = 9.681872367858887\n",
      "epoch 760 loss = 9.667586326599121\n",
      "epoch 770 loss = 9.653152465820312\n",
      "epoch 780 loss = 9.638568878173828\n",
      "epoch 790 loss = 9.623830795288086\n",
      "epoch 800 loss = 9.60893726348877\n",
      "epoch 810 loss = 9.593883514404297\n",
      "epoch 820 loss = 9.578652381896973\n",
      "epoch 830 loss = 9.56324291229248\n",
      "epoch 840 loss = 9.547659873962402\n",
      "epoch 850 loss = 9.53189754486084\n",
      "epoch 860 loss = 9.515950202941895\n",
      "epoch 870 loss = 9.499814987182617\n",
      "epoch 880 loss = 9.48348617553711\n",
      "epoch 890 loss = 9.466959953308105\n",
      "epoch 900 loss = 9.450231552124023\n",
      "epoch 910 loss = 9.433295249938965\n",
      "epoch 920 loss = 9.416149139404297\n",
      "epoch 930 loss = 9.398789405822754\n",
      "epoch 940 loss = 9.381208419799805\n",
      "epoch 950 loss = 9.36339282989502\n",
      "epoch 960 loss = 9.345346450805664\n",
      "epoch 970 loss = 9.327066421508789\n",
      "epoch 980 loss = 9.308547019958496\n",
      "epoch 990 loss = 9.289777755737305\n"
     ]
    }
   ],
   "source": [
    "class NeuralNetwork(nn.Module):\n",
    "    def __init__(self, n_features, n_neurons):\n",
    "        super().__init__()\n",
    "        self.flatten = nn.Flatten()\n",
    "        self.linear_relu_stack = nn.Sequential(\n",
    "            nn.Linear(n_features, 50),\n",
    "            nn.ReLU(),\n",
    "            nn.Linear(50, 50),\n",
    "            nn.ReLU(),\n",
    "            nn.Linear(50, n_neurons),\n",
    "            nn.ReLU(),\n",
    "        )\n",
    "\n",
    "    def forward(self, x):\n",
    "        # print(x)\n",
    "        # x = self.flatten(x)\n",
    "        out = self.linear_relu_stack(x)\n",
    "        return out\n",
    "\n",
    "    def train(self, x, y, epochs=1000):\n",
    "        optimizer = torch.optim.SGD(self.parameters(), lr=1e-3)\n",
    "        loss_fn = torch.nn.MSELoss()\n",
    "\n",
    "        for i in range(epochs):\n",
    "            pred = self.forward(x)\n",
    "            loss = loss_fn(pred, y)\n",
    "\n",
    "            loss.backward()\n",
    "            optimizer.step()\n",
    "            optimizer.zero_grad()\n",
    "\n",
    "            if i % 10 == 0:\n",
    "                print(f\"epoch {i} loss = {loss.item()}\")\n",
    "\n",
    "\n",
    "X = np.vstack(X)\n",
    "model = NeuralNetwork(X.shape[1], y_all.shape[0])\n",
    "model.train(\n",
    "    torch.tensor(X, dtype=torch.float32),\n",
    "    torch.tensor(y_all.squeeze().T, dtype=torch.float32),\n",
    ")"
   ]
  },
  {
   "cell_type": "code",
   "execution_count": 16,
   "metadata": {},
   "outputs": [
    {
     "data": {
      "text/plain": [
       "tensor([[0., 0., 0.,  ..., 0., 0., 1.],\n",
       "        [0., 0., 0.,  ..., 0., 0., 1.],\n",
       "        [0., 0., 0.,  ..., 0., 0., 1.],\n",
       "        ...,\n",
       "        [0., 0., 0.,  ..., 0., 0., 1.],\n",
       "        [0., 0., 0.,  ..., 0., 0., 1.],\n",
       "        [0., 0., 0.,  ..., 0., 0., 1.]], dtype=torch.float64)"
      ]
     },
     "execution_count": 16,
     "metadata": {},
     "output_type": "execute_result"
    }
   ],
   "source": [
    "torch.tensor(X)"
   ]
  },
  {
   "cell_type": "code",
   "execution_count": null,
   "metadata": {},
   "outputs": [],
   "source": []
  }
 ],
 "metadata": {
  "kernelspec": {
   "display_name": "towers",
   "language": "python",
   "name": "python3"
  },
  "language_info": {
   "codemirror_mode": {
    "name": "ipython",
    "version": 3
   },
   "file_extension": ".py",
   "mimetype": "text/x-python",
   "name": "python",
   "nbconvert_exporter": "python",
   "pygments_lexer": "ipython3",
   "version": "3.9.16"
  },
  "orig_nbformat": 4
 },
 "nbformat": 4,
 "nbformat_minor": 2
}

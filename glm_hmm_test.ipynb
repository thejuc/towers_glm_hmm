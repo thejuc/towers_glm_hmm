{
 "cells": [
  {
   "cell_type": "code",
   "execution_count": 13,
   "metadata": {},
   "outputs": [],
   "source": [
    "import numpy as np\n",
    "import matplotlib.pyplot as plt\n",
    "import seaborn as sns\n",
    "import pandas as pd\n",
    "import glob\n",
    "import pickle\n",
    "from scipy.linalg import hankel\n",
    "from scipy.stats import dirichlet\n",
    "import statsmodels.api as sm\n",
    "import matplotx\n",
    "\n",
    "plt.style.use(matplotx.styles.aura[\"dark\"])"
   ]
  },
  {
   "cell_type": "code",
   "execution_count": 2,
   "metadata": {},
   "outputs": [],
   "source": [
    "def trial_xticks(ax, xlocs, yloc=-0.04):\n",
    "    xlocs = np.array(xlocs)\n",
    "    ax.set_xticks(xlocs)\n",
    "    ax.set_xticklabels([])\n",
    "    ax.tick_params(\"x\", length=17, width=1, which=\"major\")\n",
    "    ax.set_xlabel(\"Time\", labelpad=10)\n",
    "\n",
    "    periods = [\"S\", \"Cue\", \"Delay\", \"Arm\", \"Reward\"]\n",
    "    for i in range(5):\n",
    "        xloc = xlocs[i] + (xlocs[i + 1] - xlocs[i]) / 2\n",
    "        ax.text(\n",
    "            xloc,\n",
    "            yloc,\n",
    "            periods[i],\n",
    "            fontsize=10,\n",
    "            horizontalalignment=\"center\",\n",
    "            verticalalignment=\"top\",\n",
    "            transform=ax.get_xaxis_transform(),\n",
    "            rotation=0,\n",
    "        )\n",
    "\n",
    "\n",
    "def nll(w, X, y):\n",
    "    lam = np.exp(X @ w)\n",
    "    # print(lam.shape)\n",
    "    return -1 * y.T @ np.log(lam) + lam.sum() - 0.5 * w.T @ w\n",
    "\n",
    "\n",
    "colors = [\"tab:red\", \"tab:blue\"]"
   ]
  },
  {
   "cell_type": "code",
   "execution_count": 3,
   "metadata": {},
   "outputs": [
    {
     "name": "stdout",
     "output_type": "stream",
     "text": [
      "dict_keys(['nCues_RminusL', 'currMaze', 'laserON', 'trialStart', 'trialEnd', 'keyFrames', 'time', 'cueOnset_L', 'cueOnset_R', 'choice', 'trialType', 'spikes', 'timeSqueezedFR'])\n",
      "n_neurons: 324\n"
     ]
    }
   ],
   "source": [
    "with open(\"test_data_acc_ind_492_0607.pickle\", \"rb\") as handle:\n",
    "    data = pickle.load(handle)\n",
    "print(data.keys())\n",
    "n_neurons = len(data[\"spikes\"])\n",
    "print(f\"n_neurons: {n_neurons}\")"
   ]
  },
  {
   "cell_type": "code",
   "execution_count": 9,
   "metadata": {},
   "outputs": [
    {
     "name": "stdout",
     "output_type": "stream",
     "text": [
      "number of trials: 233\n"
     ]
    }
   ],
   "source": [
    "# constructing design matrix with all trials and all neurons\n",
    "X_all = []\n",
    "y_all = []\n",
    "trial_indices = np.nonzero(data[\"currMaze\"] > 7)[0]\n",
    "print(f\"number of trials: {trial_indices.size}\")\n",
    "filt_len = 30\n",
    "bin_size = 0.35\n",
    "\n",
    "for neuron in range(n_neurons):\n",
    "    X = []\n",
    "    y = []\n",
    "\n",
    "    for trial_idx in trial_indices:\n",
    "        trial_start = data[\"trialStart\"][trial_idx]\n",
    "        trial_end = data[\"trialEnd\"][trial_idx]\n",
    "        trial_length = trial_end - trial_start\n",
    "        spikes = data[\"spikes\"][neuron]\n",
    "        spikes = spikes[(spikes > trial_start) * (spikes < trial_end)]\n",
    "        keyframes = data[\"keyFrames\"][trial_idx]\n",
    "        keyframe_times = data[\"time\"][trial_idx][keyframes.astype(int)].tolist()\n",
    "        lcue_times = data[\"cueOnset_L\"][trial_idx]\n",
    "        rcue_times = data[\"cueOnset_R\"][trial_idx]\n",
    "\n",
    "        bins = np.arange(0, trial_length, bin_size)\n",
    "        bin_centers = np.convolve(bins, [0.5, 0.5], mode=\"valid\")\n",
    "\n",
    "        binned_stimr, _ = np.histogram(rcue_times, bins)\n",
    "        binned_stiml, _ = np.histogram(lcue_times, bins)\n",
    "        binned_spikes, _ = np.histogram(spikes - trial_start, bins)\n",
    "        binned_ev = np.cumsum(binned_stimr) - np.cumsum(binned_stiml)\n",
    "\n",
    "        padded_stimr = np.pad(binned_stimr, (filt_len - 1, 0), constant_values=(0, 0))\n",
    "        X_sr = hankel(padded_stimr[: -filt_len + 1], padded_stimr[-filt_len:])\n",
    "        padded_stiml = np.pad(binned_stiml, (filt_len - 1, 0), constant_values=(0, 0))\n",
    "        X_sl = hankel(padded_stiml[: -filt_len + 1], padded_stiml[-filt_len:])\n",
    "        padded_ev = np.pad(binned_ev, (filt_len - 1, 0), constant_values=(0, 0))\n",
    "        X_ev = hankel(padded_ev[: -filt_len + 1], padded_stiml[-filt_len:])\n",
    "\n",
    "        padded_spikes = np.pad(\n",
    "            binned_spikes[:-1], (filt_len, 0), constant_values=(0, 0)\n",
    "        )\n",
    "        X_sp = hankel(padded_spikes[: -filt_len + 1], padded_spikes[-filt_len:])\n",
    "\n",
    "        X.append(np.hstack((X_sr, X_sl, X_sp, np.ones((X_sp.shape[0], 1)))))\n",
    "        y.append(binned_spikes[:, np.newaxis])\n",
    "\n",
    "    X_all.append(np.vstack(X))\n",
    "    y_all.append(np.vstack(y))\n",
    "\n",
    "X_all = np.array(X_all)\n",
    "y_all = np.array(y_all)"
   ]
  },
  {
   "cell_type": "code",
   "execution_count": 12,
   "metadata": {},
   "outputs": [],
   "source": [
    "# initial glm with no states to estimate weights\n",
    "w_initial = np.empty((n_neurons, X_all.shape[2]))\n",
    "for neuron in range(n_neurons):\n",
    "    glm = sm.GLM(endog=y_all[neuron], exog=X_all[neuron], family=sm.families.Poisson())\n",
    "\n",
    "    res = glm.fit(max_iter=1000, tol=1e-6, tol_criterion=\"params\")\n",
    "\n",
    "    w = res.params\n",
    "    w_initial[neuron] = w"
   ]
  },
  {
   "cell_type": "code",
   "execution_count": 20,
   "metadata": {},
   "outputs": [],
   "source": [
    "n_states = 3\n",
    "n_trials = trial_indices.size\n",
    "w_states = np.ones((n_states, n_neurons, X_all.shape[2])) * w_initial\n",
    "# adding noise to all the weights\n",
    "w_states += np.random.normal(0, 0.2, size=w_states.shape)\n",
    "t_init = np.array([5, 1, 1])\n",
    "# placing higher bias on self-transition\n",
    "T = np.array([dirichlet(np.roll(t_init, n)) for n in range(n_states)])\n",
    "alpha = np.empty((n_states, n_trials))\n",
    "alpha[:, 0] = 1/n_states\n",
    "betas = np.empty(alpha.shape)\n",
    "betas[:, -1] = 1\n",
    "\n",
    "for i in range(1):\n",
    "    # expectation step:\n",
    "    pass"
   ]
  },
  {
   "cell_type": "code",
   "execution_count": null,
   "metadata": {},
   "outputs": [],
   "source": []
  }
 ],
 "metadata": {
  "kernelspec": {
   "display_name": "Python 3",
   "language": "python",
   "name": "python3"
  },
  "language_info": {
   "codemirror_mode": {
    "name": "ipython",
    "version": 3
   },
   "file_extension": ".py",
   "mimetype": "text/x-python",
   "name": "python",
   "nbconvert_exporter": "python",
   "pygments_lexer": "ipython3",
   "version": "3.9.12"
  },
  "orig_nbformat": 4
 },
 "nbformat": 4,
 "nbformat_minor": 2
}

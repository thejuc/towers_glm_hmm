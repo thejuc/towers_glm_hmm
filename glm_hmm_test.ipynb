{
 "cells": [
  {
   "cell_type": "code",
   "execution_count": 1,
   "metadata": {},
   "outputs": [],
   "source": [
    "import numpy as np\n",
    "import matplotlib.pyplot as plt\n",
    "import seaborn as sns\n",
    "import pandas as pd\n",
    "import glob\n",
    "import pickle\n",
    "from scipy.linalg import hankel\n",
    "from scipy.stats import dirichlet, poisson\n",
    "from scipy.special import factorial, logsumexp\n",
    "import statsmodels.api as sm\n",
    "import matplotx\n",
    "from multiprocessing import Pool\n",
    "from time import time\n",
    "\n",
    "plt.style.use(matplotx.styles.aura[\"dark\"])"
   ]
  },
  {
   "cell_type": "code",
   "execution_count": 2,
   "metadata": {},
   "outputs": [],
   "source": [
    "def trial_xticks(ax, xlocs, yloc=-0.04):\n",
    "    xlocs = np.array(xlocs)\n",
    "    ax.set_xticks(xlocs)\n",
    "    ax.set_xticklabels([])\n",
    "    ax.tick_params(\"x\", length=17, width=1, which=\"major\")\n",
    "    ax.set_xlabel(\"Time\", labelpad=10)\n",
    "\n",
    "    periods = [\"S\", \"Cue\", \"Delay\", \"Arm\", \"Reward\"]\n",
    "    for i in range(5):\n",
    "        xloc = xlocs[i] + (xlocs[i + 1] - xlocs[i]) / 2\n",
    "        ax.text(\n",
    "            xloc,\n",
    "            yloc,\n",
    "            periods[i],\n",
    "            fontsize=10,\n",
    "            horizontalalignment=\"center\",\n",
    "            verticalalignment=\"top\",\n",
    "            transform=ax.get_xaxis_transform(),\n",
    "            rotation=0,\n",
    "        )\n",
    "\n",
    "\n",
    "def nll(w, X, y):\n",
    "    lam = np.exp(X @ w)\n",
    "    # print(lam.shape)\n",
    "    return -1 * y.T @ np.log(lam) + lam.sum() - 0.5 * w.T @ w\n",
    "\n",
    "\n",
    "colors = [\"tab:red\", \"tab:blue\"]"
   ]
  },
  {
   "cell_type": "code",
   "execution_count": 3,
   "metadata": {},
   "outputs": [
    {
     "name": "stdout",
     "output_type": "stream",
     "text": [
      "dict_keys(['nCues_RminusL', 'currMaze', 'laserON', 'trialStart', 'trialEnd', 'keyFrames', 'time', 'cueOnset_L', 'cueOnset_R', 'choice', 'trialType', 'spikes', 'timeSqueezedFR'])\n",
      "n_neurons: 324\n",
      "n_trials: 290\n"
     ]
    }
   ],
   "source": [
    "with open(\"test_data_acc_ind_492_0607.pickle\", \"rb\") as handle:\n",
    "    data = pickle.load(handle)\n",
    "print(data.keys())\n",
    "total_neurons = len(data[\"spikes\"])\n",
    "print(f\"n_neurons: {total_neurons}\")\n",
    "print(\"n_trials: {}\".format(data[\"choice\"].size))"
   ]
  },
  {
   "cell_type": "code",
   "execution_count": 101,
   "metadata": {},
   "outputs": [
    {
     "name": "stdout",
     "output_type": "stream",
     "text": [
      "number of trials: 290\n",
      "X shape = (13238, 61)\n"
     ]
    }
   ],
   "source": [
    "# constructing design matrix with all trials and all neurons\n",
    "np.random.seed(0)\n",
    "X_all = []\n",
    "y_all = []\n",
    "trial_indices = np.nonzero(data[\"currMaze\"] > 0)[0]\n",
    "print(f\"number of trials: {trial_indices.size}\")\n",
    "filt_len = 30\n",
    "bin_size = 0.35\n",
    "n_neurons = 2\n",
    "neuron_idx = np.random.randint(0, total_neurons, size=n_neurons)\n",
    "trial_id = []\n",
    "X = []\n",
    "\n",
    "\n",
    "for trial_idx in trial_indices:\n",
    "    trial_start = data[\"trialStart\"][trial_idx]\n",
    "    trial_end = data[\"trialEnd\"][trial_idx]\n",
    "    trial_length = trial_end - trial_start\n",
    "\n",
    "    keyframes = data[\"keyFrames\"][trial_idx]\n",
    "    keyframe_times = data[\"time\"][trial_idx][keyframes.astype(int)].tolist()\n",
    "    lcue_times = data[\"cueOnset_L\"][trial_idx]\n",
    "    rcue_times = data[\"cueOnset_R\"][trial_idx]\n",
    "\n",
    "    bins = np.arange(0, trial_length, bin_size)\n",
    "    bin_centers = np.convolve(bins, [0.5, 0.5], mode=\"valid\")\n",
    "\n",
    "    binned_stimr, _ = np.histogram(rcue_times, bins)\n",
    "    binned_stiml, _ = np.histogram(lcue_times, bins)\n",
    "    binned_ev = np.cumsum(binned_stimr) - np.cumsum(binned_stiml)\n",
    "\n",
    "    padded_stimr = np.pad(binned_stimr, (filt_len - 1, 0), constant_values=(0, 0))\n",
    "    X_sr = hankel(padded_stimr[: -filt_len + 1], padded_stimr[-filt_len:])\n",
    "    padded_stiml = np.pad(binned_stiml, (filt_len - 1, 0), constant_values=(0, 0))\n",
    "    X_sl = hankel(padded_stiml[: -filt_len + 1], padded_stiml[-filt_len:])\n",
    "    padded_ev = np.pad(binned_ev, (filt_len - 1, 0), constant_values=(0, 0))\n",
    "    X_ev = hankel(padded_ev[: -filt_len + 1], padded_stiml[-filt_len:])\n",
    "\n",
    "   \n",
    "\n",
    "    X.append(np.hstack((X_sr, X_sl, np.ones((X_sr.shape[0], 1)))))\n",
    "    trial_id.append(trial_idx * np.ones(X_sr.shape[0]))\n",
    "\n",
    "\n",
    "trial_id = np.concatenate(trial_id).astype(int)\n",
    "X = np.vstack(X)\n",
    "print(f'X shape = {X.shape}')\n"
   ]
  },
  {
   "cell_type": "code",
   "execution_count": 116,
   "metadata": {},
   "outputs": [
    {
     "name": "stdout",
     "output_type": "stream",
     "text": [
      "transition matrix: \n",
      "[[0.81 0.08 0.11]\n",
      " [0.23 0.65 0.12]\n",
      " [0.02 0.   0.98]]\n"
     ]
    },
    {
     "data": {
      "image/png": "[encoded data removed]",
      "text/plain": [
       "<Figure size 700x200 with 3 Axes>"
      ]
     },
     "metadata": {},
     "output_type": "display_data"
    }
   ],
   "source": [
    "# Generating states for simulation\n",
    "np.random.seed(0)\n",
    "n_states = 3\n",
    "t_init = np.array([2, 0.7, 0.7])\n",
    "T_sim = np.array([dirichlet(np.roll(t_init**(n+1), n)).rvs()[0] for n in range(n_states)])\n",
    "dist_init = np.array([0.8, 0.1, 0.1])\n",
    "sim_states = np.ones(trial_indices.size).astype(int)\n",
    "for i in range(sim_states.size):\n",
    "    if i == 0:\n",
    "        sim_states[i] = np.random.choice(np.arange(n_states), 1, p=dist_init)\n",
    "    sim_states[i] = np.random.choice(np.arange(n_states), 1, p=T_sim[sim_states[i-1]])\n",
    "\n",
    "print(f'transition matrix: \\n{np.round(T_sim, 2)}')\n",
    "fig, axs = plt.subplots(1, 2, figsize=(7, 2), gridspec_kw={'width_ratios': [5, 2]})\n",
    "_ = axs[0].hist(sim_states, bins=np.arange(-0.5, 2.51, 1), density=True, rwidth=0.5, orientation='horizontal')\n",
    "axs[0].set_title('Percent of Trials in Each State')\n",
    "axs[0].set_xlabel('percent')\n",
    "axs[0].set_ylabel('state')\n",
    "axs[0].set_ylim(axs[0].get_ylim()[::-1])\n",
    "im = axs[1].imshow(T_sim, cmap='cool', origin='upper')\n",
    "plt.colorbar(im, ax=axs[1], label='$p(state_{t+1} | state_t)$')\n",
    "axs[1].set_title('Transition Matrix')\n",
    "axs[1].set_ylabel(r'$state_t$')\n",
    "axs[1].set_xlabel(r'$state_{t+1}$')\n",
    "plt.tight_layout()"
   ]
  },
  {
   "cell_type": "code",
   "execution_count": 117,
   "metadata": {},
   "outputs": [
    {
     "name": "stdout",
     "output_type": "stream",
     "text": [
      "(3, 61, 2)\n"
     ]
    },
    {
     "data": {
      "text/plain": [
       "[<matplotlib.lines.Line2D at 0x7fe7f45778e0>]"
      ]
     },
     "execution_count": 117,
     "metadata": {},
     "output_type": "execute_result"
    },
    {
     "data": {
      "image/png": "[encoded data removed]",
      "text/plain": [
       "<Figure size 640x480 with 1 Axes>"
      ]
     },
     "metadata": {},
     "output_type": "display_data"
    }
   ],
   "source": [
    "# generating parameters for each state for each neuron\n",
    "np.random.seed(20)\n",
    "n_filters = 2\n",
    "theta_sim = np.empty((n_states, filt_len*n_filters+1, n_neurons))\n",
    "for n in range(n_neurons):\n",
    "    for s in range(n_states):\n",
    "        for f in range(n_filters):  # 2 filters, right stim, left stim, (no spikes for simulated data)\n",
    "            for i in range(filt_len):\n",
    "                if i == 0:\n",
    "                    theta_sim[s, i+(f * filt_len), n] = np.random.normal(0, 0.1)\n",
    "                    # theta_sim[s, i+(f * filt_len), n] = (s+1)**2\n",
    "                else:\n",
    "                    theta_sim[s, i+(f*filt_len), n] = np.random.normal(theta_sim[s, i+(f*filt_len)-1, n], .02)\n",
    "                    # theta_sim[s, i+(f * filt_len), n] = (s+1)**2\n",
    "        theta_sim[s, -1, n] = np.random.normal(0.15, 0.05) #bias term\n",
    "\n",
    "print(theta_sim.shape)\n",
    "plt.plot(theta_sim[0, :-1, 1])"
   ]
  },
  {
   "cell_type": "code",
   "execution_count": 118,
   "metadata": {},
   "outputs": [
    {
     "name": "stdout",
     "output_type": "stream",
     "text": [
      "(13238, 2)\n"
     ]
    },
    {
     "data": {
      "text/plain": [
       "(3, 61, 2)"
      ]
     },
     "execution_count": 118,
     "metadata": {},
     "output_type": "execute_result"
    }
   ],
   "source": [
    "# generating spike rate data\n",
    "y_sim = []\n",
    "for trial in np.unique(trial_id):\n",
    "    x_idx = np.argwhere(trial_id==trial)\n",
    "    y_sim.append(np.squeeze(X[x_idx] @ theta_sim[sim_states[trial]]))\n",
    "\n",
    "y_sim = np.round(np.exp(np.vstack(y_sim)))\n",
    "print(y_sim.shape)\n",
    "theta_sim.shape"
   ]
  },
  {
   "cell_type": "code",
   "execution_count": 119,
   "metadata": {},
   "outputs": [],
   "source": [
    "#initial glm with no states to estimate weights\n",
    "theta_init = np.empty(theta_sim[0].shape)\n",
    "sta = (X.T @ y_sim) / y_sim.sum()\n",
    "glms = [None for _ in range(n_neurons)]\n",
    "\n",
    "for neuron in range(n_neurons):\n",
    "    glm = sm.GLM(endog=y_sim[:, neuron], exog=X, family=sm.families.Poisson())\n",
    "    glms[neuron] = glm\n",
    "    a = 1 * np.ones(X.shape[1])\n",
    "    a[-1] = 0\n",
    "    res = glm.fit_regularized(start_params=sta[:, neuron], alpha=a, L1_wt=0.0, maxiter=1000, cnvrg_tol=1e-6)\n",
    "\n",
    "    w = res.params\n",
    "    theta_init[:, neuron] = w"
   ]
  },
  {
   "cell_type": "code",
   "execution_count": 136,
   "metadata": {},
   "outputs": [],
   "source": [
    "# np.random.seed(0)\n",
    "n_states = 3\n",
    "n_trials = trial_indices.size\n",
    "theta_hmm = np.ones((n_states, X.shape[1], n_neurons)) * theta_init\n",
    "# adding noise to all the weights\n",
    "theta_hmm += np.random.normal(0, .01, size=theta_hmm.shape)\n",
    "theta_hmm = theta_sim\n",
    "t_init = np.array([5, 1, 1])\n",
    "# placing higher bias on self-transition\n",
    "T = np.array([dirichlet(np.roll(t_init, n)).rvs()[0] for n in range(n_states)])\n",
    "T = T_sim\n",
    "pi = np.log(np.ones(n_states)) - np.log(n_states)\n",
    "alpha = np.empty((n_states, n_trials))\n",
    "beta = np.empty(alpha.shape)\n",
    "beta[:, -1] = 0\n",
    "predict = np.empty(alpha.shape)\n",
    "loglikeli = np.empty(alpha.shape)\n",
    "xi = np.empty((n_trials-1, n_states, n_states))\n",
    "scale = np.empty(n_trials)\n",
    "total_ll = []\n",
    "\n",
    "def log_space_product(A,B):\n",
    "    Astack = np.stack([A]*B.shape[1]).transpose(1,0,2)\n",
    "    Bstack = np.stack([B]*A.shape[0]).transpose(0,2,1)\n",
    "    return logsumexp(Astack+Bstack, axis=2)\n",
    "\n",
    "\n",
    "def lognormalize(x):\n",
    "    a = np.logaddexp.reduce(x)\n",
    "    return np.exp(x - a)\n",
    "\n",
    "\n",
    "\n",
    "for _ in range(15):\n",
    "    # expectation step:\n",
    "    for t in range(0, n_trials):\n",
    "        x_idx = np.argwhere(trial_id==t).squeeze()\n",
    "\n",
    "\n",
    "        # predict\n",
    "        if t == 0:\n",
    "            predict[:, t] = pi\n",
    "        else:\n",
    "            pred = []\n",
    "            for tran in T.T:\n",
    "                pred.append(logsumexp(np.log(tran) + alpha[:, t-1]))\n",
    "            # predict[:, t] = T.T @ np.exp(alpha[:, t-1])\n",
    "            predict[:, t] = np.array(pred)\n",
    "\n",
    "        v = X[x_idx] @ theta_hmm\n",
    "        r = np.exp(v)\n",
    "        ll = y_sim[x_idx] * np.log(r) - r\n",
    "        ll = ll.sum(axis=(1,2))\n",
    "        loglikeli[:, t] = ll - logsumexp(ll)\n",
    "\n",
    "        # update\n",
    "        update = loglikeli[:, t] + predict[:, t]\n",
    "        scale[t] = logsumexp(update)\n",
    "        update = update - scale[t]\n",
    "        alpha[:, t] = update\n",
    "    \n",
    "        \n",
    "\n",
    "    beta = np.empty(alpha.shape)\n",
    "    beta[:, -1] = 0  # in log form\n",
    "    for t in range(n_trials-2, -1, -1):\n",
    "        b_up = []\n",
    "        for tran in T:\n",
    "            beta_update = tran + (beta[:, t+1] + loglikeli[:, t+1])\n",
    "            b_up.append(logsumexp(beta_update))\n",
    "        beta[:, t] = np.array(b_up) - scale[t+1]\n",
    "    gamma = alpha + beta\n",
    "    gamma -= logsumexp(gamma, axis=0) \n",
    "\n",
    "    total_ll.append((loglikeli*np.exp(gamma)).sum())\n",
    "\n",
    "    for t in range(0, n_trials-1):\n",
    "        for s1 in range(n_states):\n",
    "            for s2 in range(n_states):\n",
    "                xi[t, s1, s2] = np.log(T[s1, s2]) + alpha[s1, t] + loglikeli[s2, t+1] + beta[s2, t+1]\n",
    "\n",
    "        xi[t] -= logsumexp(xi[t])\n",
    "    \n",
    "    T = logsumexp(xi, axis=0)\n",
    "    T -= logsumexp(T, axis=1)[:, None]\n",
    "    T = np.exp(T)\n",
    "    _, trial_counts = np.unique(trial_id, return_counts=True)\n",
    "    pi = gamma[:, 0]\n",
    "\n",
    "    # maximization\n",
    "    for s in range(n_states):\n",
    "        for neuron in range(n_neurons):\n",
    "            weights = np.repeat(np.exp(gamma[s]), trial_counts)\n",
    "            glm = sm.GLM(endog=y_sim[:, neuron], exog=X, family=sm.families.Poisson(), freq_weights=weights)\n",
    "\n",
    "            a = 1 * np.ones(X.shape[1])\n",
    "            a[-1] = 0\n",
    "            res = glm.fit_regularized(start_params=sta[:, neuron], alpha=a, L1_wt=0.0, maxiter=1000, cnvrg_tol=1e-6)\n",
    "\n",
    "            w = res.params\n",
    "            theta_hmm[s, :, neuron] = w"
   ]
  },
  {
   "cell_type": "code",
   "execution_count": 137,
   "metadata": {},
   "outputs": [
    {
     "data": {
      "text/plain": [
       "array([[8.13126221e-01, 7.65209357e-02, 1.10352843e-01],\n",
       "       [2.27686039e-01, 6.48004346e-01, 1.24309615e-01],\n",
       "       [2.10012197e-02, 4.89635218e-05, 9.78949817e-01]])"
      ]
     },
     "execution_count": 137,
     "metadata": {},
     "output_type": "execute_result"
    },
    {
     "data": {
      "image/png": "[encoded data removed]",
      "text/plain": [
       "<Figure size 800x400 with 4 Axes>"
      ]
     },
     "metadata": {},
     "output_type": "display_data"
    }
   ],
   "source": [
    "fig, axs = plt.subplots(1, 2, figsize=(8, 4))\n",
    "im = axs[0].imshow(T_sim, cmap='cool')\n",
    "plt.colorbar(im, ax=axs[0], fraction = 0.1)\n",
    "\n",
    "im = axs[1].imshow(T, cmap='cool')\n",
    "plt.colorbar(im, ax=axs[1], fraction = 0.1)\n",
    "### try changing sim weights way more. try removing factorial? try doing wayyyy more iterations\n",
    "T_sim"
   ]
  },
  {
   "cell_type": "code",
   "execution_count": 114,
   "metadata": {},
   "outputs": [
    {
     "name": "stdout",
     "output_type": "stream",
     "text": [
      "truth    0   1  2\n",
      "pred             \n",
      "0      156   0  0\n",
      "1        0  11  8\n",
      "2       76  35  4\n",
      "The P-Value of the ChiSq Test is: 1.572632226370434e-33\n"
     ]
    }
   ],
   "source": [
    "import pandas as pd\n",
    "from scipy.stats import chi2_contingency\n",
    "df = pd.DataFrame(np.concatenate((np.argmax(gamma, axis=0)[:, None], sim_states[:, None]), axis=1), columns = ['pred', 'truth'])\n",
    "CrosstabResult=pd.crosstab(index=df['pred'],columns=df['truth'])\n",
    "print(CrosstabResult)\n",
    "# Performing Chi-sq test\n",
    "ChiSqResult = chi2_contingency(CrosstabResult)\n",
    "\n",
    "# P-Value is the Probability of H0 being True\n",
    "# If P-Value&gt;0.05 then only we Accept the assumption(H0)\n",
    "\n",
    "print('The P-Value of the ChiSq Test is:', ChiSqResult[1])"
   ]
  },
  {
   "attachments": {},
   "cell_type": "markdown",
   "metadata": {},
   "source": [
    "### actual data"
   ]
  },
  {
   "cell_type": "code",
   "execution_count": null,
   "metadata": {},
   "outputs": [],
   "source": [
    "# constructing design matrix with all trials and all neurons\n",
    "np.random.seed(0)\n",
    "X_all = []\n",
    "y_all = []\n",
    "trial_indices = np.nonzero(data[\"currMaze\"] > 0)[0]\n",
    "print(f\"number of trials: {trial_indices.size}\")\n",
    "filt_len = 30\n",
    "bin_size = 0.35\n",
    "n_neurons = 50\n",
    "neuron_idx = np.random.randint(0, total_neurons, size=n_neurons)\n",
    "\n",
    "trial_id = []  # this will keep track of each trial in the design matrix (since each trial spans multiple rows)\n",
    "for i, neuron in enumerate(neuron_idx):\n",
    "    X = []\n",
    "    y = []\n",
    "\n",
    "    for trial_idx in trial_indices:\n",
    "        trial_start = data[\"trialStart\"][trial_idx]\n",
    "        trial_end = data[\"trialEnd\"][trial_idx]\n",
    "        trial_length = trial_end - trial_start\n",
    "        spikes = data[\"spikes\"][neuron]\n",
    "        spikes = spikes[(spikes > trial_start) * (spikes < trial_end)]\n",
    "        keyframes = data[\"keyFrames\"][trial_idx]\n",
    "        keyframe_times = data[\"time\"][trial_idx][keyframes.astype(int)].tolist()\n",
    "        lcue_times = data[\"cueOnset_L\"][trial_idx]\n",
    "        rcue_times = data[\"cueOnset_R\"][trial_idx]\n",
    "\n",
    "        bins = np.arange(0, trial_length, bin_size)\n",
    "        bin_centers = np.convolve(bins, [0.5, 0.5], mode=\"valid\")\n",
    "\n",
    "        binned_stimr, _ = np.histogram(rcue_times, bins)\n",
    "        binned_stiml, _ = np.histogram(lcue_times, bins)\n",
    "        binned_spikes, _ = np.histogram(spikes - trial_start, bins)\n",
    "        binned_ev = np.cumsum(binned_stimr) - np.cumsum(binned_stiml)\n",
    "\n",
    "        padded_stimr = np.pad(binned_stimr, (filt_len - 1, 0), constant_values=(0, 0))\n",
    "        X_sr = hankel(padded_stimr[: -filt_len + 1], padded_stimr[-filt_len:])\n",
    "        padded_stiml = np.pad(binned_stiml, (filt_len - 1, 0), constant_values=(0, 0))\n",
    "        X_sl = hankel(padded_stiml[: -filt_len + 1], padded_stiml[-filt_len:])\n",
    "        padded_ev = np.pad(binned_ev, (filt_len - 1, 0), constant_values=(0, 0))\n",
    "        X_ev = hankel(padded_ev[: -filt_len + 1], padded_stiml[-filt_len:])\n",
    "\n",
    "        padded_spikes = np.pad(\n",
    "            binned_spikes[:-1], (filt_len, 0), constant_values=(0, 0)\n",
    "        )\n",
    "        X_sp = hankel(padded_spikes[: -filt_len + 1], padded_spikes[-filt_len:])\n",
    "\n",
    "        X.append(np.hstack((X_sr, X_sl, X_sp, np.ones((X_sp.shape[0], 1)))))\n",
    "        y.append(binned_spikes[:, np.newaxis])\n",
    "        if i == 0:\n",
    "            trial_id.append(trial_idx * np.ones(X_sr.shape[0]))\n",
    "\n",
    "    X_all.append(np.vstack(X))\n",
    "    y_all.append(np.vstack(y))\n",
    "\n",
    "trial_id = np.concatenate(trial_id)\n",
    "X_all = np.array(X_all)\n",
    "y_all = np.array(y_all)"
   ]
  },
  {
   "cell_type": "code",
   "execution_count": null,
   "metadata": {},
   "outputs": [],
   "source": [
    "# def glm_fit(d):\n",
    "#     x, y = d\n",
    "#     glm = sm.GLM(endog=y, exog=x, family=sm.families.Poisson())\n",
    "\n",
    "#     res = glm.fit(max_iter=1000, tol=1e-6, tol_criterion=\"params\")\n",
    "#     return res.params\n",
    "\n",
    "# input = tuple(zip(X_all, y_all))\n",
    "\n",
    "# pool = Pool(10)\n",
    "\n",
    "# w_initial = pool.map(glm_fit, input)"
   ]
  }
 ],
 "metadata": {
  "kernelspec": {
   "display_name": "Python 3",
   "language": "python",
   "name": "python3"
  },
  "language_info": {
   "codemirror_mode": {
    "name": "ipython",
    "version": 3
   },
   "file_extension": ".py",
   "mimetype": "text/x-python",
   "name": "python",
   "nbconvert_exporter": "python",
   "pygments_lexer": "ipython3",
   "version": "3.9.16"
  },
  "orig_nbformat": 4
 },
 "nbformat": 4,
 "nbformat_minor": 2
}

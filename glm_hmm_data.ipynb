{
 "cells": [
  {
   "cell_type": "code",
   "execution_count": 2,
   "metadata": {},
   "outputs": [],
   "source": [
    "import numpy as np\n",
    "import matplotlib.pyplot as plt\n",
    "import seaborn as sns\n",
    "import pandas as pd\n",
    "import glob\n",
    "import pickle\n",
    "from scipy.linalg import hankel\n",
    "from scipy.stats import dirichlet, poisson \n",
    "from scipy.special import factorial, logsumexp\n",
    "import statsmodels.api as sm\n",
    "import matplotx\n",
    "from multiprocessing import Pool\n",
    "from time import time\n",
    "from tqdm import tqdm\n",
    "plt.style.use(matplotx.styles.aura[\"dark\"])"
   ]
  },
  {
   "cell_type": "code",
   "execution_count": 3,
   "metadata": {},
   "outputs": [],
   "source": [
    "def trial_xticks(ax, xlocs, yloc=-0.04):\n",
    "    xlocs = np.array(xlocs)\n",
    "    ax.set_xticks(xlocs)\n",
    "    ax.set_xticklabels([])\n",
    "    ax.tick_params(\"x\", length=17, width=1, which=\"major\")\n",
    "    ax.set_xlabel(\"Time\", labelpad=10)\n",
    "\n",
    "    periods = [\"S\", \"Cue\", \"Delay\", \"Arm\", \"Reward\"]\n",
    "    for i in range(5):\n",
    "        xloc = xlocs[i] + (xlocs[i + 1] - xlocs[i]) / 2\n",
    "        ax.text(\n",
    "            xloc,\n",
    "            yloc,\n",
    "            periods[i],\n",
    "            fontsize=10,\n",
    "            horizontalalignment=\"center\",\n",
    "            verticalalignment=\"top\",\n",
    "            transform=ax.get_xaxis_transform(),\n",
    "            rotation=0,\n",
    "        )\n",
    "\n",
    "\n",
    "def nll(w, X, y):\n",
    "    lam = np.exp(X @ w)\n",
    "    # print(lam.shape)\n",
    "    return -1 * y.T @ np.log(lam) + lam.sum() - 0.5 * w.T @ w\n",
    "\n",
    "\n",
    "colors = [\"tab:red\", \"tab:blue\"]"
   ]
  },
  {
   "cell_type": "code",
   "execution_count": 4,
   "metadata": {},
   "outputs": [
    {
     "name": "stdout",
     "output_type": "stream",
     "text": [
      "dict_keys(['nCues_RminusL', 'currMaze', 'laserON', 'trialStart', 'trialEnd', 'keyFrames', 'time', 'cueOnset_L', 'cueOnset_R', 'choice', 'trialType', 'spikes', 'timeSqueezedFR'])\n",
      "n_neurons: 324\n",
      "n_trials: 290\n"
     ]
    }
   ],
   "source": [
    "with open(\"test_data_acc_ind_492_0607.pickle\", \"rb\") as handle:\n",
    "    data = pickle.load(handle)\n",
    "print(data.keys())\n",
    "total_neurons = len(data[\"spikes\"])\n",
    "print(f\"n_neurons: {total_neurons}\")\n",
    "print(\"n_trials: {}\".format(data[\"choice\"].size))"
   ]
  },
  {
   "cell_type": "code",
   "execution_count": 5,
   "metadata": {},
   "outputs": [
    {
     "name": "stdout",
     "output_type": "stream",
     "text": [
      "number of trials: 290\n",
      "(5, 13238, 1) (5, 13238, 91)\n"
     ]
    }
   ],
   "source": [
    "# constructing design matrix with all trials and all neurons\n",
    "np.random.seed(0)\n",
    "X_all = []\n",
    "y_all = []\n",
    "trial_indices = np.nonzero(data[\"currMaze\"] > 0)[0]\n",
    "print(f\"number of trials: {trial_indices.size}\")\n",
    "filt_len = 30\n",
    "bin_size = 0.35\n",
    "n_neurons = 5\n",
    "neuron_idx = np.random.randint(0, total_neurons, size=n_neurons)\n",
    "# neuron_idx = np.array([11, 12])\n",
    "trial_id = []  # this will keep track of each trial in the design matrix (since each trial spans multiple rows)\n",
    "for i, neuron in enumerate(neuron_idx):\n",
    "    X = []\n",
    "    y = []\n",
    "\n",
    "    for trial_idx in trial_indices:\n",
    "        trial_start = data[\"trialStart\"][trial_idx]\n",
    "        trial_end = data[\"trialEnd\"][trial_idx]\n",
    "        trial_length = trial_end - trial_start\n",
    "\n",
    "        keyframes = data[\"keyFrames\"][trial_idx]\n",
    "        keyframe_times = data[\"time\"][trial_idx][keyframes.astype(int)].tolist()\n",
    "        lcue_times = data[\"cueOnset_L\"][trial_idx]\n",
    "        rcue_times = data[\"cueOnset_R\"][trial_idx]\n",
    "        \n",
    "        spikes = data[\"spikes\"][neuron]\n",
    "        spikes = spikes[(spikes > trial_start) * (spikes < trial_end)]\n",
    "\n",
    "        bins = np.arange(0, trial_length, bin_size)\n",
    "        bin_centers = np.convolve(bins, [0.5, 0.5], mode=\"valid\")\n",
    "\n",
    "        binned_stimr, _ = np.histogram(rcue_times, bins)\n",
    "        binned_stiml, _ = np.histogram(lcue_times, bins)\n",
    "        binned_ev = np.cumsum(binned_stimr) - np.cumsum(binned_stiml)\n",
    "        binned_spikes, _ = np.histogram(spikes - trial_start, bins)\n",
    "\n",
    "        padded_stimr = np.pad(binned_stimr, (filt_len - 1, 0), constant_values=(0, 0))\n",
    "        X_sr = hankel(padded_stimr[: -filt_len + 1], padded_stimr[-filt_len:])\n",
    "        padded_stiml = np.pad(binned_stiml, (filt_len - 1, 0), constant_values=(0, 0))\n",
    "        X_sl = hankel(padded_stiml[: -filt_len + 1], padded_stiml[-filt_len:])\n",
    "        padded_ev = np.pad(binned_ev, (filt_len - 1, 0), constant_values=(0, 0))\n",
    "        X_ev = hankel(padded_ev[: -filt_len + 1], padded_stiml[-filt_len:])\n",
    "\n",
    "    \n",
    "\n",
    "        padded_spikes = np.pad(\n",
    "            binned_spikes[:-1], (filt_len, 0), constant_values=(0, 0)\n",
    "        )\n",
    "        X_sp = hankel(padded_spikes[: -filt_len + 1], padded_spikes[-filt_len:])\n",
    "\n",
    "        X.append(np.hstack((X_sr, X_sl, X_sp, np.ones((X_sp.shape[0], 1)))))\n",
    "        y.append(binned_spikes[:, np.newaxis])\n",
    "        if i == 0:\n",
    "            trial_id.append(trial_idx * np.ones(X_sr.shape[0]))\n",
    "\n",
    "    X_all.append(np.vstack(X))\n",
    "    y_all.append(np.vstack(y))\n",
    "\n",
    "trial_id = np.concatenate(trial_id)\n",
    "X_all = np.array(X_all)\n",
    "y_all = np.array(y_all)\n",
    "print(y_all.shape, X_all.shape)"
   ]
  },
  {
   "cell_type": "code",
   "execution_count": 6,
   "metadata": {},
   "outputs": [],
   "source": [
    "#initial glm with no states to estimate weights\n",
    "theta_init = np.empty((X_all[0].shape[1], n_neurons))\n",
    "# glms = [None for _ in range(n_neurons)]\n",
    "sta = (X_all.transpose(0, 2, 1) @ y_all).squeeze() / y_all.sum(axis=1)\n",
    "\n",
    "for neuron in range(n_neurons):\n",
    "    \n",
    "    # print(X_all[neuron].shape, y_all[neuron].shape, sta[neuron].shape)\n",
    "    glm = sm.GLM(endog=y_all[neuron].squeeze(), exog=X_all[neuron], family=sm.families.Poisson())\n",
    "    # glms[neuron] = glm\n",
    "    a = 1 * np.ones(X_all.shape[2])\n",
    "    a[-1] = 0\n",
    "    res = glm.fit_regularized(alpha=a, L1_wt=0.0, maxiter=1000, cnvrg_tol=1e-6)\n",
    "    # res = glm.fit(max_iter=1000, tol=1e-6, tol_criterion=\"params\")\n",
    "    w = res.params\n",
    "    theta_init[:, neuron] = w\n",
    "# print(a.shape)"
   ]
  },
  {
   "cell_type": "code",
   "execution_count": 24,
   "metadata": {},
   "outputs": [
    {
     "name": "stderr",
     "output_type": "stream",
     "text": [
      "100%|██████████| 15/15 [01:48<00:00,  7.22s/it]\n"
     ]
    },
    {
     "data": {
      "image/png": "[encoded data removed]",
      "text/plain": [
       "<Figure size 600x300 with 1 Axes>"
      ]
     },
     "metadata": {},
     "output_type": "display_data"
    }
   ],
   "source": [
    "# with functions\n",
    "n_states = 3\n",
    "n_trials = trial_indices.size\n",
    "theta_hmm = np.ones((n_states, X_all.shape[2], n_neurons)) * theta_init\n",
    "# adding noise to all the weights\n",
    "theta_hmm += np.random.normal(0, .01, size=theta_hmm.shape)\n",
    "t_init = np.array([5, 1, 1])\n",
    "# placing higher bias on self-transition\n",
    "T = np.array([dirichlet(np.roll(t_init, n)).rvs()[0] for n in range(n_states)])\n",
    "T = np.log(T)\n",
    "pi = np.log(np.ones(n_states)) - np.log(n_states)\n",
    "xi = np.empty((n_trials-1, n_states, n_states))\n",
    "scale = np.empty(n_trials)\n",
    "total_ll = []\n",
    "\n",
    "\n",
    "\n",
    "def get_poiss_ll(X, y, theta):\n",
    "    v = X @ theta\n",
    "    r = np.exp(v)\n",
    "    ll = y * np.log(r) - r\n",
    "    ll = ll.sum(axis=(0, 1))\n",
    "    return ll - logsumexp(ll)\n",
    "\n",
    "def forward(X, y, theta, T, pi, trial_id):\n",
    "    n_trials = np.unique(trial_id).size\n",
    "    n_states = theta.shape[0]\n",
    "    alpha = np.empty((n_states, n_trials))\n",
    "    predict = np.empty(alpha.shape)\n",
    "    loglikeli = np.empty(alpha.shape)\n",
    "\n",
    "    for t in range(n_trials):\n",
    "        x_idx = np.argwhere(trial_id==t).squeeze()\n",
    "        # predict\n",
    "        if t == 0:\n",
    "            predict[:, t] = pi\n",
    "        else:\n",
    "            pred = []\n",
    "            for tran in T.T:\n",
    "                pred.append(logsumexp(tran + alpha[:, t-1]))\n",
    "            predict[:, t] = np.array(pred)\n",
    "\n",
    "        loglikeli[:, t] = get_poiss_ll(X[:, x_idx], y[:, x_idx], theta_hmm.transpose(2, 1, 0))\n",
    "        # update\n",
    "        update = loglikeli[:, t] + predict[:, t]\n",
    "        scale[t] = logsumexp(update)\n",
    "        update -= scale[t]\n",
    "        alpha[:, t] = update\n",
    "\n",
    "    return alpha, loglikeli, scale, predict\n",
    "\n",
    "\n",
    "for _ in tqdm(range(15)):\n",
    "    \n",
    "    alpha, loglikeli, scale, predict = forward(X_all, y_all, theta_hmm, T, pi, trial_id)\n",
    "\n",
    "    beta = np.empty(alpha.shape)\n",
    "    beta[:, -1] = 0  # in log form\n",
    "    for t in range(n_trials-2, -1, -1):\n",
    "        b_up = []\n",
    "        for tran in T:\n",
    "            beta_update = tran + beta[:, t+1] + loglikeli[:, t+1]\n",
    "            b_up.append(logsumexp(beta_update))\n",
    "        beta[:, t] = np.array(b_up) - scale[t+1]\n",
    "    gamma = alpha + beta\n",
    "    gamma -= logsumexp(gamma, axis=0) \n",
    "\n",
    "    total_ll.append((np.exp(gamma) * loglikeli).sum())\n",
    "\n",
    "\n",
    "    for t in range(0, n_trials-1):\n",
    "        for s1 in range(n_states):\n",
    "            for s2 in range(n_states):\n",
    "                xi[t, s1, s2] = T[s1, s2] + alpha[s1, t] + loglikeli[s2, t+1] + beta[s2, t+1]\n",
    "\n",
    "        xi[t] -= logsumexp(xi[t])\n",
    "    \n",
    "    T = logsumexp(xi, axis=0)\n",
    "    T -= logsumexp(T, axis=1)[:, None]\n",
    "\n",
    "    _, trial_counts = np.unique(trial_id, return_counts=True)\n",
    "    pi = gamma[:, 0]\n",
    "\n",
    "    # maximization\n",
    "    for s in range(n_states):\n",
    "        for neuron in range(n_neurons):\n",
    "            weights = np.repeat(np.exp(gamma[s]), trial_counts)\n",
    "            glm = sm.GLM(endog=y_all[neuron], exog=X_all[neuron], family=sm.families.Poisson(), freq_weights=weights)\n",
    "            # can greatly effect outcome. too high on simulated data made it fail, basically comes down to noise level of data\n",
    "            # higher noise ---> set alpha to be higher\n",
    "            a = 0 * np.ones(X_all.shape[2])  \n",
    "            a[-1] = 0\n",
    "            res = glm.fit_regularized(alpha=a, L1_wt=0.0, maxiter=1000, cnvrg_tol=1e-6)\n",
    "\n",
    "            w = res.params\n",
    "            theta_hmm[s, :, neuron] = w\n",
    "\n",
    "fig, ax = plt.subplots(figsize=(6, 3))\n",
    "ax.plot(np.array(total_ll))\n",
    "ax.set_title(r'LL weighted by $\\gamma$')\n",
    "ax.set_xlabel('EM iteration')\n",
    "ax.set_ylabel(r'$\\gamma \\cdot log(p(y | X, Z))$');"
   ]
  },
  {
   "cell_type": "code",
   "execution_count": 9,
   "metadata": {},
   "outputs": [],
   "source": [
    "fname = 'run000.pickle'\n",
    "out = {\n",
    "    'neuron_idx': neuron_idx,\n",
    "    'T': T,\n",
    "    'alpha': alpha,\n",
    "    'gamma': gamma,\n",
    "    'beta': beta,\n",
    "    'loglikeli': loglikeli,\n",
    "    'theta': theta_hmm,\n",
    "    'total_ll': total_ll,\n",
    "    'predict': predict\n",
    "}\n",
    "with open(fname, 'wb') as handle:\n",
    "    pickle.dump(out, handle)"
   ]
  },
  {
   "cell_type": "code",
   "execution_count": 11,
   "metadata": {},
   "outputs": [
    {
     "data": {
      "text/plain": [
       "<matplotlib.image.AxesImage at 0x7fe81d91af40>"
      ]
     },
     "execution_count": 11,
     "metadata": {},
     "output_type": "execute_result"
    },
    {
     "data": {
      "image/png": "[encoded data removed]",
      "text/plain": [
       "<Figure size 640x480 with 1 Axes>"
      ]
     },
     "metadata": {},
     "output_type": "display_data"
    }
   ],
   "source": [
    "with open(fname, 'rb') as handle:\n",
    "    rd = pickle.load(handle)\n"
   ]
  },
  {
   "cell_type": "code",
   "execution_count": 22,
   "metadata": {},
   "outputs": [
    {
     "data": {
      "text/plain": [
       "(array([[184.,   2.,   0.,   0.,   0.,   0.,   1.,   2.,   0., 101.],\n",
       "        [180.,   0.,   2.,   1.,   0.,   0.,   0.,   0.,   2., 105.],\n",
       "        [211.,   0.,   0.,   0.,   0.,   0.,   0.,   0.,   0.,  79.]]),\n",
       " array([0. , 0.1, 0.2, 0.3, 0.4, 0.5, 0.6, 0.7, 0.8, 0.9, 1. ]),\n",
       " <a list of 3 BarContainer objects>)"
      ]
     },
     "execution_count": 22,
     "metadata": {},
     "output_type": "execute_result"
    },
    {
     "data": {
      "image/png": "[encoded data removed]",
      "text/plain": [
       "<Figure size 640x480 with 1 Axes>"
      ]
     },
     "metadata": {},
     "output_type": "display_data"
    }
   ],
   "source": [
    "plt.hist(np.exp(gamma.T))\n"
   ]
  },
  {
   "cell_type": "code",
   "execution_count": 23,
   "metadata": {},
   "outputs": [
    {
     "data": {
      "text/plain": [
       "<matplotlib.image.AxesImage at 0x7fe81d9bf100>"
      ]
     },
     "execution_count": 23,
     "metadata": {},
     "output_type": "execute_result"
    },
    {
     "data": {
      "image/png": "[encoded data removed]",
      "text/plain": [
       "<Figure size 640x480 with 1 Axes>"
      ]
     },
     "metadata": {},
     "output_type": "display_data"
    }
   ],
   "source": [
    "plt.imshow(T)"
   ]
  },
  {
   "attachments": {},
   "cell_type": "markdown",
   "metadata": {},
   "source": [
    "Spike history of other neurons to determine current neuron activity? Seems like a reasonable feature in a connected network"
   ]
  }
 ],
 "metadata": {
  "kernelspec": {
   "display_name": "towers",
   "language": "python",
   "name": "python3"
  },
  "language_info": {
   "codemirror_mode": {
    "name": "ipython",
    "version": 3
   },
   "file_extension": ".py",
   "mimetype": "text/x-python",
   "name": "python",
   "nbconvert_exporter": "python",
   "pygments_lexer": "ipython3",
   "version": "3.9.16"
  },
  "orig_nbformat": 4
 },
 "nbformat": 4,
 "nbformat_minor": 2
}
